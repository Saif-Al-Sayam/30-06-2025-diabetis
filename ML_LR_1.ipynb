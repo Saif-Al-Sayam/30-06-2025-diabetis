{
  "nbformat": 4,
  "nbformat_minor": 0,
  "metadata": {
    "colab": {
      "provenance": [],
      "authorship_tag": "ABX9TyMxk2MW+iHrUba5HpLM2oHf",
      "include_colab_link": true
    },
    "kernelspec": {
      "name": "python3",
      "display_name": "Python 3"
    },
    "language_info": {
      "name": "python"
    }
  },
  "cells": [
    {
      "cell_type": "markdown",
      "metadata": {
        "id": "view-in-github",
        "colab_type": "text"
      },
      "source": [
        "<a href=\"https://colab.research.google.com/github/Saif-Al-Sayam/30-06-2025-diabetis/blob/main/ML_LR_1.ipynb\" target=\"_parent\"><img src=\"https://colab.research.google.com/assets/colab-badge.svg\" alt=\"Open In Colab\"/></a>"
      ]
    },
    {
      "cell_type": "code",
      "execution_count": 1,
      "metadata": {
        "colab": {
          "base_uri": "https://localhost:8080/"
        },
        "id": "SxAJHWgexqfZ",
        "outputId": "12237178-7c15-4a60-ec53-36d02b455e8e"
      },
      "outputs": [
        {
          "output_type": "stream",
          "name": "stdout",
          "text": [
            "Null values in each column:\n",
            " Pregnancies                 0\n",
            "Glucose                     0\n",
            "BloodPressure               0\n",
            "SkinThickness               0\n",
            "Insulin                     0\n",
            "BMI                         0\n",
            "DiabetesPedigreeFunction    0\n",
            "Age                         0\n",
            "Outcome                     0\n",
            "dtype: int64\n",
            "Accuracy: 0.8116883116883117\n",
            "Confusion Matrix:\n",
            " [[97 10]\n",
            " [19 28]]\n",
            "Precision: 0.7368421052631579\n",
            "Recall: 0.5957446808510638\n",
            "F1 Score: 0.6588235294117647\n"
          ]
        }
      ],
      "source": [
        "import pandas as pd\n",
        "import numpy as np\n",
        "from sklearn.model_selection import train_test_split\n",
        "from sklearn.linear_model import LinearRegression\n",
        "from sklearn.metrics import confusion_matrix, accuracy_score, precision_score, recall_score, f1_score\n",
        "\n",
        "# Load dataset\n",
        "dataset = pd.read_csv('https://raw.githubusercontent.com/Saif-Al-Sayam/30-06-2025-diabetis/refs/heads/main/diabetes.csv')\n",
        "\n",
        "# Check for null values\n",
        "print(\"Null values in each column:\\n\", dataset.isnull().sum())\n",
        "\n",
        "# Replace 0s with mean\n",
        "for col in ['Glucose', 'BloodPressure', 'SkinThickness', 'Insulin', 'BMI']:\n",
        "    dataset[col] = dataset[col].replace(0, np.nan).fillna(dataset[col].mean())\n",
        "\n",
        "# Modify specific values\n",
        "dataset.loc[0, 'Glucose'] = dataset['Glucose'].max()  # first row's glucose = max\n",
        "dataset.loc[dataset['Age'] == dataset['Age'].min(), 'Glucose'] = dataset['Glucose'].min()  # lowest age rows' glucose = min\n",
        "\n",
        "# Split data\n",
        "X = dataset.iloc[:, :-1].values\n",
        "y = dataset.iloc[:, -1].values\n",
        "X_train, X_test, y_train, y_test = train_test_split(X, y, test_size=0.2, random_state=0)\n",
        "\n",
        "# Train and predict\n",
        "model = LinearRegression()\n",
        "model.fit(X_train, y_train)\n",
        "y_pred = np.round(model.predict(X_test)).astype(int)\n",
        "\n",
        "# Evaluation\n",
        "print(\"Accuracy:\", accuracy_score(y_test, y_pred))\n",
        "print(\"Confusion Matrix:\\n\", confusion_matrix(y_test, y_pred))\n",
        "print(\"Precision:\", precision_score(y_test, y_pred))\n",
        "print(\"Recall:\", recall_score(y_test, y_pred))\n",
        "print(\"F1 Score:\", f1_score(y_test, y_pred))\n"
      ]
    }
  ]
}